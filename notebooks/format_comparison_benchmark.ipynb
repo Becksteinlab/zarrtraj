{
 "cells": [
  {
   "cell_type": "code",
   "execution_count": 34,
   "metadata": {},
   "outputs": [],
   "source": [
    "# Import parking garage\n",
    "import MDAnalysis as mda\n",
    "import MDAnalysisData\n",
    "import zarr\n",
    "import h5py\n",
    "import numcodecs\n",
    "import os\n",
    "import subprocess\n",
    "import numpy as np\n",
    "import matplotlib.pyplot as plt\n",
    "import pandas as pd\n",
    "import time\n",
    "from MDAnalysis.core.topology import Topology\n",
    "from MDAnalysis.core.topologyattrs import Atomids, Atomnames\n",
    "# os.chdir('format_comparison_folder')\n",
    "\n"
   ]
  },
  {
   "cell_type": "code",
   "execution_count": 17,
   "metadata": {},
   "outputs": [
    {
     "name": "stderr",
     "output_type": "stream",
     "text": [
      "/home/law/anaconda3/envs/zarrtraj/lib/python3.10/site-packages/MDAnalysis/topology/PDBParser.py:348: UserWarning: Unknown element Z found for some atoms. These have been given an empty element record. If needed they can be guessed using MDAnalysis.topology.guessers.\n",
      "  warnings.warn(wmsg)\n",
      "/home/law/anaconda3/envs/zarrtraj/lib/python3.10/site-packages/MDAnalysis/topology/PDBParser.py:348: UserWarning: Unknown element D found for some atoms. These have been given an empty element record. If needed they can be guessed using MDAnalysis.topology.guessers.\n",
      "  warnings.warn(wmsg)\n",
      "/home/law/anaconda3/envs/zarrtraj/lib/python3.10/site-packages/MDAnalysis/topology/guessers.py:146: UserWarning: Failed to guess the mass for the following atom types: D\n",
      "  warnings.warn(\"Failed to guess the mass for the following atom types: {}\".format(atom_type))\n",
      "/home/law/anaconda3/envs/zarrtraj/lib/python3.10/site-packages/MDAnalysis/topology/guessers.py:146: UserWarning: Failed to guess the mass for the following atom types: Z\n",
      "  warnings.warn(\"Failed to guess the mass for the following atom types: {}\".format(atom_type))\n"
     ]
    }
   ],
   "source": [
    "# Setup yiip data\n",
    "yiip = MDAnalysisData.yiip_equilibrium.fetch_yiip_equilibrium_short()\n",
    "u = mda.Universe(yiip.topology, yiip.trajectory)\n",
    "positions = mda.Universe(yiip.topology, yiip.trajectory, in_memory=True).trajectory.get_array()"
   ]
  },
  {
   "cell_type": "code",
   "execution_count": 43,
   "metadata": {},
   "outputs": [],
   "source": [
    "# Convenience methods\n",
    "\n",
    "def generate_traj(n_atoms):\n",
    "    frames = 100\n",
    "    pos = np.arange(3 * n_atoms) # this will be initial positions array\n",
    "    np.random.shuffle(pos)\n",
    "    pos = pos.reshape(n_atoms, 3)\n",
    "    positions = np.empty((frames, n_atoms, 3), dtype=np.float32)\n",
    "    # Each frame we will apply a \"jitter\" to each position\n",
    "    # this jitter will be a val between -4 and 4\n",
    "    jit = 8 * np.random.random_sample((frames, n_atoms, 3)) - 4\n",
    "    for i in range(frames):\n",
    "        positions[i] =  jit[i] + pos\n",
    "\n",
    "    return positions\n",
    "\n",
    "def filesize(filename):\n",
    "    return int(subprocess.check_output(['du','-s', filename]).split()[0].decode('utf-8'))\n",
    "\n",
    "def exponential_range(start, stop, step):\n",
    "    return [pow(10, i) for i in range(start, stop, step)]\n",
    "\n",
    "def it(filename, i=None):\n",
    "    filename, file_extension = os.path.splitext(filename)\n",
    "    if file_extension != '.zarr':\n",
    "        start = time.time()\n",
    "        for i in range(11):\n",
    "            n_atoms = pow(10, i)\n",
    "            iterate_mda(filename, n_atoms, file_extension)\n",
    "        stop = time.time()\n",
    "        return stop - start\n",
    "    else:\n",
    "        start = time.time()\n",
    "        for i in range(11):\n",
    "            iterate_zarr(filename)\n",
    "        stop = time.time()\n",
    "        return stop - start\n",
    "\n",
    "def iterate_mda(filename, n_atoms, file_extension):\n",
    "    atom_ids = Atomids(np.arange(n_atoms))\n",
    "    atom_names = Atomnames(np.array(['X']*n_atoms))\n",
    "    topology = Topology(n_atoms, 0, 0, attrs=[atom_ids, atom_names])\n",
    "    print(file_extension[1:].upper())\n",
    "    u = mda.Universe(topology, file_extension[1:].upper())\n",
    "    u.load_new(filename)\n",
    "    num = 0\n",
    "    for ts in u.trajectory:\n",
    "        num += ts[0][0]\n",
    "\n",
    "def iterate_zarr(filename):\n",
    "    z = zarr.open(filename, 'r')\n",
    "    p = z['positions']\n",
    "    num = 0\n",
    "    for f in p:\n",
    "        num += f[0][0]\n",
    "\n",
    "\n",
    "\n",
    "    \n"
   ]
  },
  {
   "cell_type": "code",
   "execution_count": 11,
   "metadata": {},
   "outputs": [],
   "source": [
    "compressor = numcodecs.Blosc(cname='zstd', clevel=9)\n",
    "compressor2 = numcodecs.Blosc(cname='zstd', clevel=0)\n",
    "\n",
    "for i in range(3, 7):\n",
    "    n_atoms = pow(10, i)\n",
    "    traj = generate_traj(n_atoms)\n",
    "    u = mda.Universe(traj)\n",
    "\n",
    "    with mda.Writer(f\"10e{i}_xtc.xtc\", n_atoms) as w:\n",
    "        for ts in u.trajectory:\n",
    "            w.write(u.atoms)\n",
    "\n",
    "    with mda.Writer(f\"10e{i}_trr.trr\", n_atoms) as w:\n",
    "        for ts in u.trajectory:\n",
    "            w.write(u.atoms)   \n",
    "    \n",
    "    with mda.Writer(f\"10e{i}_h5md_c.h5md\", n_atoms, compression='gzip', compression_ops=9, convert_units=False) as w:\n",
    "        for ts in u.trajectory:\n",
    "            w.write(u.atoms)   \n",
    "\n",
    "    with mda.Writer(f\"10e{i}_h5md_un.h5md\", n_atoms, convert_units=False) as w:\n",
    "        for ts in u.trajectory:\n",
    "            w.write(u.atoms)   \n",
    "\n",
    "    root = zarr.open(f\"10e{i}_zarr_c.zarr\", mode='w')\n",
    "    root.create_dataset('positions', data=traj, \n",
    "                        chunks = (1, n_atoms, 3), \n",
    "                        compressor=compressor)\n",
    "\n",
    "    root2 = zarr.open(f\"10e{i}_zarr_un.zarr\", mode='w')\n",
    "    root2.create_dataset('positions', data=traj, \n",
    "                        chunks = (1, n_atoms, 3), \n",
    "                        compressor=compressor2)\n",
    "    "
   ]
  },
  {
   "cell_type": "code",
   "execution_count": 44,
   "metadata": {},
   "outputs": [
    {
     "name": "stdout",
     "output_type": "stream",
     "text": [
      "XTC\n"
     ]
    },
    {
     "ename": "TypeError",
     "evalue": "Cannot find an appropriate coordinate reader for file 'XTC'.\n           Unknown coordinate trajectory format '' for 'XTC'. The FORMATs \n           dict_keys(['CHAIN', 'CHEMFILES', 'CRD', 'DCD', 'CONFIG', 'HISTORY', 'DMS', 'GMS', 'GRO', 'INPCRD', 'RESTRT', 'LAMMPS', 'DATA', 'LAMMPSDUMP', 'MOL2', 'PDB', 'ENT', 'XPDB', 'PDBQT', 'PQR', 'TRC', 'TRJ', 'MDCRD', 'CRDBOX', 'NCDF', 'NC', 'TRR', 'H5MD', 'TRZ', 'XTC', 'XYZ', 'TXYZ', 'ARC', 'MEMORY', 'MMTF', 'GSD', 'COOR', 'NAMDBIN', 'IN', 'FHIAIMS', 'TNG', 'PARMED', 'RDKIT', 'OPENMMSIMULATION', 'OPENMMAPP'])\n           are implemented in MDAnalysis.\n           See https://docs.mdanalysis.org/documentation_pages/coordinates/init.html#id1\n           Use the format keyword to explicitly set the format: 'Universe(...,format=FORMAT)'\n           For missing formats, raise an issue at https://github.com/MDAnalysis/mdanalysis/issues",
     "output_type": "error",
     "traceback": [
      "\u001b[0;31m---------------------------------------------------------------------------\u001b[0m",
      "\u001b[0;31mValueError\u001b[0m                                Traceback (most recent call last)",
      "File \u001b[0;32m~/anaconda3/envs/zarrtraj/lib/python3.10/site-packages/MDAnalysis/core/universe.py:571\u001b[0m, in \u001b[0;36mUniverse.load_new\u001b[0;34m(self, filename, format, in_memory, in_memory_step, **kwargs)\u001b[0m\n\u001b[1;32m    570\u001b[0m \u001b[38;5;28;01mtry\u001b[39;00m:\n\u001b[0;32m--> 571\u001b[0m     reader \u001b[38;5;241m=\u001b[39m \u001b[43mget_reader_for\u001b[49m\u001b[43m(\u001b[49m\u001b[43mfilename\u001b[49m\u001b[43m,\u001b[49m\u001b[43m \u001b[49m\u001b[38;5;28;43mformat\u001b[39;49m\u001b[38;5;241;43m=\u001b[39;49m\u001b[38;5;28;43mformat\u001b[39;49m\u001b[43m)\u001b[49m\n\u001b[1;32m    572\u001b[0m \u001b[38;5;28;01mexcept\u001b[39;00m \u001b[38;5;167;01mValueError\u001b[39;00m \u001b[38;5;28;01mas\u001b[39;00m err:\n",
      "File \u001b[0;32m~/anaconda3/envs/zarrtraj/lib/python3.10/site-packages/MDAnalysis/core/_get_readers.py:107\u001b[0m, in \u001b[0;36mget_reader_for\u001b[0;34m(filename, format)\u001b[0m\n\u001b[1;32m     98\u001b[0m errmsg \u001b[38;5;241m=\u001b[39m (\n\u001b[1;32m     99\u001b[0m     \u001b[38;5;124m\"\u001b[39m\u001b[38;5;124mUnknown coordinate trajectory format \u001b[39m\u001b[38;5;124m'\u001b[39m\u001b[38;5;132;01m{0}\u001b[39;00m\u001b[38;5;124m'\u001b[39m\u001b[38;5;124m for \u001b[39m\u001b[38;5;124m'\u001b[39m\u001b[38;5;132;01m{1}\u001b[39;00m\u001b[38;5;124m'\u001b[39m\u001b[38;5;124m. The FORMATs \u001b[39m\u001b[38;5;130;01m\\n\u001b[39;00m\u001b[38;5;124m\"\u001b[39m\n\u001b[1;32m    100\u001b[0m     \u001b[38;5;124m\"\u001b[39m\u001b[38;5;124m           \u001b[39m\u001b[38;5;132;01m{2}\u001b[39;00m\u001b[38;5;130;01m\\n\u001b[39;00m\u001b[38;5;124m\"\u001b[39m\n\u001b[0;32m   (...)\u001b[0m\n\u001b[1;32m    105\u001b[0m     \u001b[38;5;124m\"\u001b[39m\u001b[38;5;124mhttps://github.com/MDAnalysis/mdanalysis/issues\u001b[39m\u001b[38;5;124m\"\u001b[39m\u001b[38;5;241m.\u001b[39mformat(\n\u001b[1;32m    106\u001b[0m         \u001b[38;5;28mformat\u001b[39m, filename, _READERS\u001b[38;5;241m.\u001b[39mkeys()))\n\u001b[0;32m--> 107\u001b[0m \u001b[38;5;28;01mraise\u001b[39;00m \u001b[38;5;167;01mValueError\u001b[39;00m(errmsg) \u001b[38;5;28;01mfrom\u001b[39;00m \u001b[38;5;28;01mNone\u001b[39;00m\n",
      "\u001b[0;31mValueError\u001b[0m: Unknown coordinate trajectory format '' for 'XTC'. The FORMATs \n           dict_keys(['CHAIN', 'CHEMFILES', 'CRD', 'DCD', 'CONFIG', 'HISTORY', 'DMS', 'GMS', 'GRO', 'INPCRD', 'RESTRT', 'LAMMPS', 'DATA', 'LAMMPSDUMP', 'MOL2', 'PDB', 'ENT', 'XPDB', 'PDBQT', 'PQR', 'TRC', 'TRJ', 'MDCRD', 'CRDBOX', 'NCDF', 'NC', 'TRR', 'H5MD', 'TRZ', 'XTC', 'XYZ', 'TXYZ', 'ARC', 'MEMORY', 'MMTF', 'GSD', 'COOR', 'NAMDBIN', 'IN', 'FHIAIMS', 'TNG', 'PARMED', 'RDKIT', 'OPENMMSIMULATION', 'OPENMMAPP'])\n           are implemented in MDAnalysis.\n           See https://docs.mdanalysis.org/documentation_pages/coordinates/init.html#id1\n           Use the format keyword to explicitly set the format: 'Universe(...,format=FORMAT)'\n           For missing formats, raise an issue at https://github.com/MDAnalysis/mdanalysis/issues",
      "\nDuring handling of the above exception, another exception occurred:\n",
      "\u001b[0;31mTypeError\u001b[0m                                 Traceback (most recent call last)",
      "Cell \u001b[0;32mIn[44], line 12\u001b[0m\n\u001b[1;32m      8\u001b[0m h_c_it \u001b[38;5;241m=\u001b[39m[]\n\u001b[1;32m     10\u001b[0m \u001b[38;5;28;01mfor\u001b[39;00m i \u001b[38;5;129;01min\u001b[39;00m \u001b[38;5;28mrange\u001b[39m(\u001b[38;5;241m3\u001b[39m, \u001b[38;5;241m7\u001b[39m, \u001b[38;5;241m1\u001b[39m):\n\u001b[0;32m---> 12\u001b[0m     x_it\u001b[38;5;241m.\u001b[39mappend(\u001b[43mit\u001b[49m\u001b[43m(\u001b[49m\u001b[38;5;124;43mf\u001b[39;49m\u001b[38;5;124;43m'\u001b[39;49m\u001b[38;5;124;43m10e\u001b[39;49m\u001b[38;5;132;43;01m{\u001b[39;49;00m\u001b[43mi\u001b[49m\u001b[38;5;132;43;01m}\u001b[39;49;00m\u001b[38;5;124;43m_xtc.xtc\u001b[39;49m\u001b[38;5;124;43m'\u001b[39;49m\u001b[43m,\u001b[49m\u001b[43m \u001b[49m\u001b[43mi\u001b[49m\u001b[43m)\u001b[49m)\n\u001b[1;32m     13\u001b[0m     t_it\u001b[38;5;241m.\u001b[39mappend(it(\u001b[38;5;124mf\u001b[39m\u001b[38;5;124m'\u001b[39m\u001b[38;5;124m10e\u001b[39m\u001b[38;5;132;01m{\u001b[39;00mi\u001b[38;5;132;01m}\u001b[39;00m\u001b[38;5;124m_trr.trr\u001b[39m\u001b[38;5;124m'\u001b[39m), i)\n\u001b[1;32m     14\u001b[0m     z_it\u001b[38;5;241m.\u001b[39mappend(it(\u001b[38;5;124mf\u001b[39m\u001b[38;5;124m'\u001b[39m\u001b[38;5;124m10e\u001b[39m\u001b[38;5;132;01m{\u001b[39;00mi\u001b[38;5;132;01m}\u001b[39;00m\u001b[38;5;124m_zarr_un.zarr\u001b[39m\u001b[38;5;124m'\u001b[39m))\n",
      "Cell \u001b[0;32mIn[43], line 29\u001b[0m, in \u001b[0;36mit\u001b[0;34m(filename, i)\u001b[0m\n\u001b[1;32m     27\u001b[0m \u001b[38;5;28;01mfor\u001b[39;00m i \u001b[38;5;129;01min\u001b[39;00m \u001b[38;5;28mrange\u001b[39m(\u001b[38;5;241m11\u001b[39m):\n\u001b[1;32m     28\u001b[0m     n_atoms \u001b[38;5;241m=\u001b[39m \u001b[38;5;28mpow\u001b[39m(\u001b[38;5;241m10\u001b[39m, i)\n\u001b[0;32m---> 29\u001b[0m     \u001b[43miterate_mda\u001b[49m\u001b[43m(\u001b[49m\u001b[43mfilename\u001b[49m\u001b[43m,\u001b[49m\u001b[43m \u001b[49m\u001b[43mn_atoms\u001b[49m\u001b[43m,\u001b[49m\u001b[43m \u001b[49m\u001b[43mfile_extension\u001b[49m\u001b[43m)\u001b[49m\n\u001b[1;32m     30\u001b[0m stop \u001b[38;5;241m=\u001b[39m time\u001b[38;5;241m.\u001b[39mtime()\n\u001b[1;32m     31\u001b[0m \u001b[38;5;28;01mreturn\u001b[39;00m stop \u001b[38;5;241m-\u001b[39m start\n",
      "Cell \u001b[0;32mIn[43], line 44\u001b[0m, in \u001b[0;36miterate_mda\u001b[0;34m(filename, n_atoms, file_extension)\u001b[0m\n\u001b[1;32m     42\u001b[0m topology \u001b[38;5;241m=\u001b[39m Topology(n_atoms, \u001b[38;5;241m0\u001b[39m, \u001b[38;5;241m0\u001b[39m, attrs\u001b[38;5;241m=\u001b[39m[atom_ids, atom_names])\n\u001b[1;32m     43\u001b[0m \u001b[38;5;28mprint\u001b[39m(file_extension[\u001b[38;5;241m1\u001b[39m:]\u001b[38;5;241m.\u001b[39mupper())\n\u001b[0;32m---> 44\u001b[0m u \u001b[38;5;241m=\u001b[39m \u001b[43mmda\u001b[49m\u001b[38;5;241;43m.\u001b[39;49m\u001b[43mUniverse\u001b[49m\u001b[43m(\u001b[49m\u001b[43mtopology\u001b[49m\u001b[43m,\u001b[49m\u001b[43m \u001b[49m\u001b[43mfile_extension\u001b[49m\u001b[43m[\u001b[49m\u001b[38;5;241;43m1\u001b[39;49m\u001b[43m:\u001b[49m\u001b[43m]\u001b[49m\u001b[38;5;241;43m.\u001b[39;49m\u001b[43mupper\u001b[49m\u001b[43m(\u001b[49m\u001b[43m)\u001b[49m\u001b[43m)\u001b[49m\n\u001b[1;32m     45\u001b[0m u\u001b[38;5;241m.\u001b[39mload_new(filename)\n\u001b[1;32m     46\u001b[0m num \u001b[38;5;241m=\u001b[39m \u001b[38;5;241m0\u001b[39m\n",
      "File \u001b[0;32m~/anaconda3/envs/zarrtraj/lib/python3.10/site-packages/MDAnalysis/core/universe.py:375\u001b[0m, in \u001b[0;36mUniverse.__init__\u001b[0;34m(self, topology, all_coordinates, format, topology_format, transformations, guess_bonds, vdwradii, fudge_factor, lower_bound, in_memory, in_memory_step, *coordinates, **kwargs)\u001b[0m\n\u001b[1;32m    370\u001b[0m coordinates \u001b[38;5;241m=\u001b[39m _resolve_coordinates(\u001b[38;5;28mself\u001b[39m\u001b[38;5;241m.\u001b[39mfilename, \u001b[38;5;241m*\u001b[39mcoordinates,\n\u001b[1;32m    371\u001b[0m                                    \u001b[38;5;28mformat\u001b[39m\u001b[38;5;241m=\u001b[39m\u001b[38;5;28mformat\u001b[39m,\n\u001b[1;32m    372\u001b[0m                                    all_coordinates\u001b[38;5;241m=\u001b[39mall_coordinates)\n\u001b[1;32m    374\u001b[0m \u001b[38;5;28;01mif\u001b[39;00m coordinates:\n\u001b[0;32m--> 375\u001b[0m     \u001b[38;5;28;43mself\u001b[39;49m\u001b[38;5;241;43m.\u001b[39;49m\u001b[43mload_new\u001b[49m\u001b[43m(\u001b[49m\u001b[43mcoordinates\u001b[49m\u001b[43m,\u001b[49m\u001b[43m \u001b[49m\u001b[38;5;28;43mformat\u001b[39;49m\u001b[38;5;241;43m=\u001b[39;49m\u001b[38;5;28;43mformat\u001b[39;49m\u001b[43m,\u001b[49m\u001b[43m \u001b[49m\u001b[43min_memory\u001b[49m\u001b[38;5;241;43m=\u001b[39;49m\u001b[43min_memory\u001b[49m\u001b[43m,\u001b[49m\n\u001b[1;32m    376\u001b[0m \u001b[43m                \u001b[49m\u001b[43min_memory_step\u001b[49m\u001b[38;5;241;43m=\u001b[39;49m\u001b[43min_memory_step\u001b[49m\u001b[43m,\u001b[49m\u001b[43m \u001b[49m\u001b[38;5;241;43m*\u001b[39;49m\u001b[38;5;241;43m*\u001b[39;49m\u001b[43mkwargs\u001b[49m\u001b[43m)\u001b[49m\n\u001b[1;32m    378\u001b[0m \u001b[38;5;28;01mif\u001b[39;00m transformations:\n\u001b[1;32m    379\u001b[0m     \u001b[38;5;28;01mif\u001b[39;00m \u001b[38;5;28mcallable\u001b[39m(transformations):\n",
      "File \u001b[0;32m~/anaconda3/envs/zarrtraj/lib/python3.10/site-packages/MDAnalysis/core/universe.py:573\u001b[0m, in \u001b[0;36mUniverse.load_new\u001b[0;34m(self, filename, format, in_memory, in_memory_step, **kwargs)\u001b[0m\n\u001b[1;32m    571\u001b[0m     reader \u001b[38;5;241m=\u001b[39m get_reader_for(filename, \u001b[38;5;28mformat\u001b[39m\u001b[38;5;241m=\u001b[39m\u001b[38;5;28mformat\u001b[39m)\n\u001b[1;32m    572\u001b[0m \u001b[38;5;28;01mexcept\u001b[39;00m \u001b[38;5;167;01mValueError\u001b[39;00m \u001b[38;5;28;01mas\u001b[39;00m err:\n\u001b[0;32m--> 573\u001b[0m     \u001b[38;5;28;01mraise\u001b[39;00m \u001b[38;5;167;01mTypeError\u001b[39;00m(\n\u001b[1;32m    574\u001b[0m         \u001b[38;5;124m\"\u001b[39m\u001b[38;5;124mCannot find an appropriate coordinate reader for file \u001b[39m\u001b[38;5;124m'\u001b[39m\u001b[38;5;132;01m{0}\u001b[39;00m\u001b[38;5;124m'\u001b[39m\u001b[38;5;124m.\u001b[39m\u001b[38;5;130;01m\\n\u001b[39;00m\u001b[38;5;124m\"\u001b[39m\n\u001b[1;32m    575\u001b[0m         \u001b[38;5;124m\"\u001b[39m\u001b[38;5;124m           \u001b[39m\u001b[38;5;132;01m{1}\u001b[39;00m\u001b[38;5;124m\"\u001b[39m\u001b[38;5;241m.\u001b[39mformat(filename, err))\n\u001b[1;32m    577\u001b[0m \u001b[38;5;66;03m# supply number of atoms for readers that cannot do it for themselves\u001b[39;00m\n\u001b[1;32m    578\u001b[0m kwargs[\u001b[38;5;124m'\u001b[39m\u001b[38;5;124mn_atoms\u001b[39m\u001b[38;5;124m'\u001b[39m] \u001b[38;5;241m=\u001b[39m \u001b[38;5;28mself\u001b[39m\u001b[38;5;241m.\u001b[39matoms\u001b[38;5;241m.\u001b[39mn_atoms\n",
      "\u001b[0;31mTypeError\u001b[0m: Cannot find an appropriate coordinate reader for file 'XTC'.\n           Unknown coordinate trajectory format '' for 'XTC'. The FORMATs \n           dict_keys(['CHAIN', 'CHEMFILES', 'CRD', 'DCD', 'CONFIG', 'HISTORY', 'DMS', 'GMS', 'GRO', 'INPCRD', 'RESTRT', 'LAMMPS', 'DATA', 'LAMMPSDUMP', 'MOL2', 'PDB', 'ENT', 'XPDB', 'PDBQT', 'PQR', 'TRC', 'TRJ', 'MDCRD', 'CRDBOX', 'NCDF', 'NC', 'TRR', 'H5MD', 'TRZ', 'XTC', 'XYZ', 'TXYZ', 'ARC', 'MEMORY', 'MMTF', 'GSD', 'COOR', 'NAMDBIN', 'IN', 'FHIAIMS', 'TNG', 'PARMED', 'RDKIT', 'OPENMMSIMULATION', 'OPENMMAPP'])\n           are implemented in MDAnalysis.\n           See https://docs.mdanalysis.org/documentation_pages/coordinates/init.html#id1\n           Use the format keyword to explicitly set the format: 'Universe(...,format=FORMAT)'\n           For missing formats, raise an issue at https://github.com/MDAnalysis/mdanalysis/issues"
     ]
    }
   ],
   "source": [
    "n = np.logspace(3, 6, 4)\n",
    "\n",
    "x_it = []\n",
    "t_it = []\n",
    "z_it = []\n",
    "z_c_it = []\n",
    "h_it =[]\n",
    "h_c_it =[]\n",
    "\n",
    "for i in range(3, 7, 1):\n",
    "\n",
    "    x_it.append(it(f'10e{i}_xtc.xtc', i))\n",
    "    t_it.append(it(f'10e{i}_trr.trr'), i)\n",
    "    z_it.append(it(f'10e{i}_zarr_un.zarr'))\n",
    "    z_c_it.append(it(f'10e{i}_zarr_c.zarr'))\n",
    "    h_it.append(it(f'10e{i}_h5md_un.h5md'), i)\n",
    "    h_c_it.append(it(f'10e{i}_h5md_c.h5md'), i)\n",
    "\n",
    "\n",
    "# Graph zarrtraj size vs h5 size\n",
    "plt.title('Number of atoms vs iteration time for different formats')\n",
    "plt.xlabel('Number of atoms')\n",
    "plt.ylabel('Iteration time (s)')\n",
    "plt.xscale('log')\n",
    "# plt.yscale('log')\n",
    "\n",
    "plt.scatter(n, z_it, c='blue', s=50, label=\"Zarr Uncompressed\", marker='x')\n",
    "plt.scatter(n, z_c_it, c='magenta', s=50, label=\"Zarr Compressed\", marker='x')\n",
    "plt.scatter(n, h_it, c='cyan', s=50, label=\"H5MD Uncompressed\", marker='+')\n",
    "plt.scatter(n, z_it, c='green', s=50, label=\"H5MD Compressed\", marker='+')\n",
    "plt.scatter(n, x_it, c='red', s=50, label=\"XTC\", marker='1')\n",
    "plt.scatter(n, t_it, c='black', s=50, label=\"TRR\", marker='2')\n",
    "\n",
    "plt.legend()"
   ]
  },
  {
   "cell_type": "code",
   "execution_count": 46,
   "metadata": {},
   "outputs": [
    {
     "data": {
      "text/plain": [
       "<matplotlib.legend.Legend at 0x7fdafe844dc0>"
      ]
     },
     "execution_count": 46,
     "metadata": {},
     "output_type": "execute_result"
    },
    {
     "data": {
      "image/png": "[encoded data removed]",
      "text/plain": [
       "<Figure size 640x480 with 1 Axes>"
      ]
     },
     "metadata": {},
     "output_type": "display_data"
    }
   ],
   "source": [
    "n = np.logspace(3, 6, 4)\n",
    "\n",
    "x_filesize = []\n",
    "t_filesize = []\n",
    "z_filesize = []\n",
    "z_c_filesize = []\n",
    "h_filesize =[]\n",
    "h_c_filesize =[]\n",
    "\n",
    "for i in range(3, 7, 1):\n",
    "    x_filesize.append(filesize(f'10e{i}_xtc.xtc'))\n",
    "    t_filesize.append(filesize(f'10e{i}_trr.trr'))\n",
    "    z_filesize.append(filesize(f'10e{i}_zarr_un.zarr'))\n",
    "    z_c_filesize.append(filesize(f'10e{i}_zarr_c.zarr'))\n",
    "    h_filesize.append(filesize(f'10e{i}_h5md_un.h5md'))\n",
    "    h_c_filesize.append(filesize(f'10e{i}_h5md_c.h5md'))\n",
    "\n",
    "\n",
    "# Graph zarrtraj size vs h5 size\n",
    "plt.title('Number of atoms vs trajectory filesize for different formats')\n",
    "plt.xlabel('Number of atoms')\n",
    "plt.ylabel('Trajectory filesize (kilobytes)')\n",
    "plt.xscale('log')\n",
    "#plt.yscale('log')\n",
    "\n",
    "#plt.scatter(n, z_filesize, c='blue', s=50, label=\"Zarr Uncompressed\", marker='x')\n",
    "#plt.scatter(n, z_c_filesize, c='magenta', s=50, label=\"Zarr Compressed\", marker='x')\n",
    "plt.scatter(n, h_filesize, c='cyan', s=50, label=\"H5MD Uncompressed\", marker='+')\n",
    "plt.scatter(n, z_filesize, c='green', s=50, label=\"H5MD Compressed\", marker='x')\n",
    "#plt.scatter(n, x_filesize, c='red', s=50, label=\"XTC\", marker='1')\n",
    "#plt.scatter(n, t_filesize, c='black', s=50, label=\"TRR\", marker='2')\n",
    "\n",
    "plt.legend()"
   ]
  }
 ],
 "metadata": {
  "language_info": {
   "name": "python"
  }
 },
 "nbformat": 4,
 "nbformat_minor": 2
}
