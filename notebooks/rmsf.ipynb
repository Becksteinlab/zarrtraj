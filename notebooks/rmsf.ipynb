{
 "cells": [
  {
   "cell_type": "markdown",
   "metadata": {},
   "source": [
    "Benchmarking RMSF analysis speed using cloud & disk reading\n",
    "\n",
    "First perform the steps in `benchmark_setup.ipynb`\n",
    "\n",
    "Steps:\n",
    "\n",
    "1. Open a `zarr.Group` object from the trajectory stored on disk\n",
    "2. Open one from the trajectory uploaded to an AWS S3 bucket\n",
    "3. Create an `mda.Universe` object for both zarr groups and one for the original .xtc trajectory\n",
    "4. Perform the RMSF analysis for each `mda.Universe`, time, and compare results"
   ]
  },
  {
   "cell_type": "code",
   "execution_count": null,
   "metadata": {},
   "outputs": [],
   "source": []
  }
 ],
 "metadata": {
  "kernelspec": {
   "display_name": "zarrtraj",
   "language": "python",
   "name": "python3"
  },
  "language_info": {
   "codemirror_mode": {
    "name": "ipython",
    "version": 3
   },
   "file_extension": ".py",
   "mimetype": "text/x-python",
   "name": "python",
   "nbconvert_exporter": "python",
   "pygments_lexer": "ipython3",
   "version": "3.10.13"
  }
 },
 "nbformat": 4,
 "nbformat_minor": 2
}
