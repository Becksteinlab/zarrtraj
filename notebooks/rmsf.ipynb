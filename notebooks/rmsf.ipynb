{
 "cells": [
  {
   "cell_type": "markdown",
   "metadata": {},
   "source": [
    "Benchmarking RMSF analysis speed using cloud & disk reading\n",
    "\n",
    "First perform the steps in `benchmark_setup.ipynb`\n",
    "\n",
    "Steps:\n",
    "\n",
    "1. Open a `zarr.Group` object from the trajectory stored on disk\n",
    "2. Open one from the trajectory uploaded to an AWS S3 bucket\n",
    "3. Create an `mda.Universe` object for both zarr groups and one for the original .xtc trajectory\n",
    "4. Perform the RMSF analysis for each `mda.Universe`, time, and compare results"
   ]
  },
  {
   "cell_type": "code",
   "execution_count": null,
   "metadata": {},
   "outputs": [],
   "source": [
    "import zarrtraj\n",
    "import MDAnalysis as mda\n",
    "import zarr\n",
    "from zarr.storage import LRUStoreCache\n",
    "import s3fs\n",
    "import os\n",
    "\n",
    "# 1\n",
    "yiipHDD = zarr.open_group(\"notebook_data_tmp/yiip.zarrtraj\")\n",
    "\n",
    "# 2\n",
    "AWS_ACCESS_KEY_ID = os.getenv(\"AWS_ACCESS_KEY_ID\")\n",
    "AWS_SECRET_ACCESS_KEY = os.getenv(\"AWS_SECRET_ACCESS_KEY\")\n",
    "BUCKET_NAME = os.getenv(\"BUCKET_NAME\")\n",
    "\n",
    "s3 = s3fs.S3FileSystem(key=AWS_ACCESS_KEY_ID, secret=AWS_SECRET_ACCESS_KEY)\n",
    "store = s3fs.S3Map(root='zarrtraj-test-data/s3-test-cacheing.zarrtraj', s3=s3, check=False)\n",
    "# Select max_size value in bytes based on chunking of zarrtraj data\n",
    "# At least one chunk must fit in the cache\n",
    "cache = LRUStoreCache(store, max_size=2**25)\n",
    "yiipS3 = zarr.open_group(store=cache)\n",
    "\n",
    "# 3\n",
    "uHDD = mda.Universe(\"notebook_data_tmp/YiiP_system.pdb\", yiipHDD)\n",
    "uS3 = mda.Universe(\"notebook_data_tmp/YiiP_system.pdb\", yiipS3)\n",
    "uXTC = mda.Universe(\"notebook_data_tmp/YiiP_system.pdb\", \"YiiP_system_90ns_center.xtc\")"
   ]
  },
  {
   "cell_type": "code",
   "execution_count": null,
   "metadata": {},
   "outputs": [],
   "source": [
    "import time\n",
    "from MDAnalysis.analysis import align\n",
    "\n",
    "universes = dict()\n",
    "universes[\"uHDD\"][\"ref\"] = uHDD\n",
    "universes[\"uS3\"][\"ref\"] = uS3\n",
    "universes[\"uXTC\"][\"ref\"] = uXTC\n",
    "\n",
    "for name in (\"uHDD\", \"uS3\", \"uXTC\"):\n",
    "    start = time.time()\n",
    "    average = align.AverageStructure(universes[name][\"ref\"], \n",
    "                                     universes[name][\"ref\"], select='protein and name CA',\n",
    "                                     ref_frame=0).run()\n",
    "    ref = average.results.universe\n",
    "    \n",
    "\n",
    "    stop = time.time()\n",
    "\n",
    "    \n"
   ]
  },
  {
   "cell_type": "code",
   "execution_count": null,
   "metadata": {},
   "outputs": [],
   "source": []
  }
 ],
 "metadata": {
  "kernelspec": {
   "display_name": "zarrtraj",
   "language": "python",
   "name": "python3"
  },
  "language_info": {
   "codemirror_mode": {
    "name": "ipython",
    "version": 3
   },
   "file_extension": ".py",
   "mimetype": "text/x-python",
   "name": "python",
   "nbconvert_exporter": "python",
   "pygments_lexer": "ipython3",
   "version": "3.10.13"
  }
 },
 "nbformat": 4,
 "nbformat_minor": 2
}
