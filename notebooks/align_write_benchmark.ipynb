{
 "cells": [
  {
   "cell_type": "code",
   "execution_count": null,
   "metadata": {},
   "outputs": [],
   "source": [
    "from MDAnalysis.analysis import align\n",
    "\n",
    "# 4.1\n",
    "\n",
    "u = mda.Universe(yiip.topology, yiip.trajectory)\n",
    "\n",
    "aligner = align.AlignTraj(u, ref,\n",
    "                          select='protein and name CA',\n",
    "                          filename='yiip_aligned.xtc',\n",
    "                          in_memory=False).run()\n"
   ]
  },
  {
   "cell_type": "markdown",
   "metadata": {},
   "source": [
    "4. Align the trajectory using `MDAnalysis.analysis.align` and write it again in\n",
    "    1. the local filesystem in .xtc format\n",
    "    2. the local filesystem in .zarrtraj format\n",
    "    3. an AWS S3 bucket in .zarrtarj format"
   ]
  }
 ],
 "metadata": {
  "language_info": {
   "name": "python"
  }
 },
 "nbformat": 4,
 "nbformat_minor": 2
}
