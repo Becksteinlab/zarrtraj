{
 "cells": [
  {
   "cell_type": "markdown",
   "metadata": {},
   "source": [
    "XTC and aggressively quantised compressed Zarr (3 digits precision, GROMACS default) in terms of file size\n",
    "\n",
    "Also @Lawson could I have a  < 50 Mb aggressively quantised zarrtraj file? Or even better an S3 link to one?\n",
    "\n"
   ]
  },
  {
   "cell_type": "markdown",
   "metadata": {},
   "source": [
    "Compare yiip filesize between xtc and zarrtraj with max compression and 3 digits of precision"
   ]
  },
  {
   "cell_type": "code",
   "execution_count": 5,
   "metadata": {},
   "outputs": [
    {
     "name": "stdout",
     "output_type": "stream",
     "text": [
      "/home/law/workspace/zarrtraj/notebooks/raw_zarr_benchmarks\n"
     ]
    },
    {
     "name": "stderr",
     "output_type": "stream",
     "text": [
      "/home/law/workspace/mdanalysis/package/MDAnalysis/topology/PDBParser.py:348: UserWarning: Unknown element Z found for some atoms. These have been given an empty element record. If needed they can be guessed using MDAnalysis.topology.guessers.\n",
      "  warnings.warn(wmsg)\n",
      "/home/law/workspace/mdanalysis/package/MDAnalysis/topology/PDBParser.py:348: UserWarning: Unknown element D found for some atoms. These have been given an empty element record. If needed they can be guessed using MDAnalysis.topology.guessers.\n",
      "  warnings.warn(wmsg)\n",
      "/home/law/workspace/mdanalysis/package/MDAnalysis/topology/guessers.py:146: UserWarning: Failed to guess the mass for the following atom types: D\n",
      "  warnings.warn(\"Failed to guess the mass for the following atom types: {}\".format(atom_type))\n",
      "/home/law/workspace/mdanalysis/package/MDAnalysis/topology/guessers.py:146: UserWarning: Failed to guess the mass for the following atom types: Z\n",
      "  warnings.warn(\"Failed to guess the mass for the following atom types: {}\".format(atom_type))\n"
     ]
    }
   ],
   "source": [
    "from zarrtraj import *\n",
    "import MDAnalysis as mda\n",
    "import MDAnalysisData\n",
    "import zarr\n",
    "import h5py\n",
    "import numcodecs\n",
    "import os\n",
    "import subprocess\n",
    "import numpy as np\n",
    "import matplotlib.pyplot as plt\n",
    "import pandas as pd\n",
    "import time\n",
    "\n",
    "u_yiip = mda.Universe(\"../notebook_data_tmp/yiip_equilibrium/YiiP_system.pdb\", \"../notebook_data_tmp/yiip_equilibrium/YiiP_system_90ns_center.xtc\")\n",
    "\n",
    "# Write to zarrtraj with (1, n_atoms, 3) chunks\n",
    "filters = [numcodecs.Quantize(digits=3)]\n",
    "compressor = numcodecs.Blosc(cname='zstd', clevel=9, chunks=(1, u_yiip.trajectory.n_atoms, 3))\n",
    "with mda.Writer(\"../notebook_data_tmp/yiip_1_frame.zarrtraj\", n_frames=u_yiip.trajectory.n_frames, chunks=(1, u_yiip.trajectory.n_atoms, 3),\n",
    "                compressor=compressor, filters=filters) as w:\n",
    "    for ts in u_yiip.trajectory:\n",
    "        w.write(u_yiip)\n",
    "\n",
    "# Write to zarrtraj with (10, n_atoms, 3) chunks\n",
    "filters = [numcodecs.Quantize(digits=3)]\n",
    "compressor = numcodecs.Blosc(cname='zstd', clevel=9, chunks=(10, u_yiip.trajectory.n_atoms, 3))\n",
    "with mda.Writer(\"../notebook_data_tmp/yiip_1_frame.zarrtraj\", n_frames=u_yiip.trajectory.n_frames, chunks=(10, u_yiip.trajectory.n_atoms, 3),\n",
    "                compressor=compressor, filters=filters) as w:\n",
    "    for ts in u_yiip.trajectory:\n",
    "        w.write(u_yiip)\n",
    "\n",
    "# Write to zarrtraj with (100, n_atoms, 3) chunks\n",
    "filters = [numcodecs.Quantize(digits=3)]\n",
    "compressor = numcodecs.Blosc(cname='zstd', clevel=9, chunks=(100, u_yiip.trajectory.n_atoms, 3))\n",
    "with mda.Writer(\"../notebook_data_tmp/yiip_1_frame.zarrtraj\", n_frames=u_yiip.trajectory.n_frames, chunks=(100, u_yiip.trajectory.n_atoms, 3),\n",
    "                compressor=compressor, filters=filters) as w:\n",
    "    for ts in u_yiip.trajectory:\n",
    "        w.write(u_yiip)\n",
    "\n",
    "# Write to xtc\n",
    "with mda.Writer(\"../notebook_data_tmp/yiip.xtc\", n_atoms=u_yiip.trajectory.n_atoms) as w:\n",
    "    for ts in u_yiip.trajectory:\n",
    "        w.write(u_yiip)\n",
    "\n"
   ]
  }
 ],
 "metadata": {
  "kernelspec": {
   "display_name": "zarrtraj",
   "language": "python",
   "name": "python3"
  },
  "language_info": {
   "codemirror_mode": {
    "name": "ipython",
    "version": 3
   },
   "file_extension": ".py",
   "mimetype": "text/x-python",
   "name": "python",
   "nbconvert_exporter": "python",
   "pygments_lexer": "ipython3",
   "version": "3.11.9"
  }
 },
 "nbformat": 4,
 "nbformat_minor": 2
}
