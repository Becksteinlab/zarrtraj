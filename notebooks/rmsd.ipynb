{
 "cells": [
  {
   "cell_type": "markdown",
   "metadata": {},
   "source": [
    "Benchmarking RMSD analysis speed using cloud & disk reading\n",
    "\n",
    "Prerequisites:\n",
    "- `benchmark_setup.ipynb`\n",
    "- `align_write_benchmark.ipynb`\n",
    "\n",
    "Steps:\n",
    "\n",
    "1. Open a `zarr.Group` object from the aligned trajectory stored on disk\n",
    "2. Open a group from the trajectory uploaded to an AWS S3 bucket\n",
    "3. Create an `mda.Universe` object for both zarr groups and one for the original .xtc trajectory\n",
    "4. Perform the RMSD analysis for each `mda.Universe`, time, and record results"
   ]
  },
  {
   "cell_type": "code",
   "execution_count": null,
   "metadata": {},
   "outputs": [],
   "source": [
    "import zarrtraj\n",
    "import MDAnalysis as mda\n",
    "import zarr\n",
    "from zarr.storage import LRUStoreCache\n",
    "import s3fs\n",
    "import os\n",
    "\n",
    "# 1\n",
    "yiipHDD = zarr.open_group(\"notebook_data_tmp/yiip_aligned.zarrtraj\")\n",
    "\n",
    "# 2\n",
    "AWS_ACCESS_KEY_ID = os.getenv(\"AWS_ACCESS_KEY_ID\")\n",
    "AWS_SECRET_ACCESS_KEY = os.getenv(\"AWS_SECRET_ACCESS_KEY\")\n",
    "BUCKET_NAME = os.getenv(\"BUCKET_NAME\")\n",
    "\n",
    "s3 = s3fs.S3FileSystem(key=AWS_ACCESS_KEY_ID, secret=AWS_SECRET_ACCESS_KEY)\n",
    "store = s3fs.S3Map(root='zarrtraj-test-data/yiip_aligned.zarrtraj', s3=s3, check=False)\n",
    "# Select max_size value in bytes based on chunking of zarrtraj data\n",
    "# At least one chunk must fit in the cache\n",
    "cache = LRUStoreCache(store, max_size=2**25)\n",
    "yiipS3 = zarr.open_group(store=cache)\n",
    "\n",
    "# 3\n",
    "uHDD = mda.Universe(\"notebook_data_tmp/YiiP_system.pdb\", yiipHDD)\n",
    "uS3 = mda.Universe(\"notebook_data_tmp/YiiP_system.pdb\", yiipS3)\n",
    "uXTC = mda.Universe(\"notebook_data_tmp/YiiP_system.pdb\", \"YiiP_system_90ns_center.xtc\")"
   ]
  },
  {
   "cell_type": "code",
   "execution_count": null,
   "metadata": {},
   "outputs": [],
   "source": [
    "from MDAnalysis.analysis import rms\n",
    "import time\n",
    "\n",
    "universes = dict()\n",
    "universes[\"uHDD\"][\"ref\"] = uHDD\n",
    "universes[\"uS3\"][\"ref\"] = uS3\n",
    "universes[\"uXTC\"][\"ref\"] = uXTC\n",
    "\n",
    "\n",
    "for name in (\"uHDD\", \"uS3\", \"uXTC\"):\n",
    "    start = time.time()\n",
    "    R = rms.RMSD(universes[name][\"ref\"],\n",
    "                universes[name][\"ref\"],\n",
    "                select='backbone',\n",
    "                ref_frame=0)\n",
    "    stop = time.time()\n",
    "    universes[name][\"RMSD\"] = stop - start\n",
    "\n",
    "    "
   ]
  },
  {
   "cell_type": "code",
   "execution_count": null,
   "metadata": {},
   "outputs": [],
   "source": []
  }
 ],
 "metadata": {
  "language_info": {
   "name": "python"
  }
 },
 "nbformat": 4,
 "nbformat_minor": 2
}
