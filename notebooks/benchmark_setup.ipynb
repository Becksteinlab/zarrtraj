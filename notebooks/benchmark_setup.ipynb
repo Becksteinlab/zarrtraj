{
 "cells": [
  {
   "cell_type": "markdown",
   "metadata": {},
   "source": [
    "This notebook will setup the trajectories used in benchmarking. It also demonstrates how to upload a `.zarrtraj` trajectory\n",
    "to an S3 bucket directly using `Zarr` and `s3fs` without use of the ZarrTrajWriter\n",
    "\n",
    "1. Download the 90ns YiiP trajectory to the local filesystem\n",
    "2. Write it into the zarrtraj format on disk\n",
    "3. Upload the zarrtraj-formatted trajectory to an accessible AWS S3 bucket"
   ]
  },
  {
   "cell_type": "code",
   "execution_count": null,
   "metadata": {},
   "outputs": [],
   "source": [
    "import zarrtraj\n",
    "import MDAnalysis as mda\n",
    "import MDAnalysisData\n",
    "import zarr\n",
    "\n",
    "# 1\n",
    "yiip = MDAnalysisData.yiip_equilibrium.fetch_yiip_equilibrium_long(data_home='notebook_data_tmp')\n",
    "# 2\n",
    "u = mda.Universe(yiip.topology, yiip.trajectory)\n",
    "z = zarr.open_group(\"notebook_data_tmp/yiip.zarrtraj\", mode = 'w')\n",
    "with mda.Writer(z, u.atoms.n_atoms,\n",
    "                    # Select _ frames \n",
    "                    chunks=(10, u.trajectory.n_atoms, 3),\n",
    "                    format='ZARRTRAJ') as W:\n",
    "    for ts in u.trajectory:\n",
    "        W.write(u.atoms)"
   ]
  },
  {
   "cell_type": "code",
   "execution_count": null,
   "metadata": {},
   "outputs": [],
   "source": [
    "import os \n",
    "import s3fs\n",
    "import zarr\n",
    "\n",
    "# 3\n",
    "# Must set the environmental variables using Jupyter's directive:\n",
    "# \"%env KEY=VALUE\"\n",
    "# before running\n",
    "\n",
    "AWS_ACCESS_KEY_ID = os.getenv(\"AWS_ACCESS_KEY_ID\")\n",
    "AWS_SECRET_ACCESS_KEY = os.getenv(\"AWS_SECRET_ACCESS_KEY\")\n",
    "BUCKET_NAME = os.getenv(\"BUCKET_NAME\")\n",
    "\n",
    "source = zarr.open_group(\"notebook_data_tmp/yiip.zarrtraj\", mode='r')\n",
    "\n",
    "s3_fs = s3fs.S3FileSystem(\n",
    "    # anon must be false to allow authentication\n",
    "    anon=False,\n",
    "    client_kwargs=dict(\n",
    "        region_name='us-east-1',\n",
    "    )\n",
    ")\n",
    "\n",
    "cloud_store = s3fs.S3Map(\n",
    "    root=f'{BUCKET_NAME}/yiip.zarrtraj',\n",
    "    s3=s3_fs,\n",
    "    check=False\n",
    ")\n",
    "\n",
    "zarr.convenience.copy_store(source.store, cloud_store,\n",
    "                            if_exists='replace')"
   ]
  }
 ],
 "metadata": {
  "kernelspec": {
   "display_name": "zarrtraj",
   "language": "python",
   "name": "python3"
  },
  "language_info": {
   "codemirror_mode": {
    "name": "ipython",
    "version": 3
   },
   "file_extension": ".py",
   "mimetype": "text/x-python",
   "name": "python",
   "nbconvert_exporter": "python",
   "pygments_lexer": "ipython3",
   "version": "3.11.8"
  }
 },
 "nbformat": 4,
 "nbformat_minor": 2
}
