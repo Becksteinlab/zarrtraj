{
 "cells": [
  {
   "cell_type": "code",
   "execution_count": null,
   "metadata": {},
   "outputs": [],
   "source": [
    "with mda.writer(z, u.atoms.n_atoms,\n",
    "                    n_frames=u.trajectory.n_frames,\n",
    "                    # Select _ frames \n",
    "                    chunks=(10, u.trajectory.n_atoms, 3),\n",
    "                    # _ MB (values greater than 1MB work best)\n",
    "                    # Ensure at least 1 chunk can fit in the memory buffer\n",
    "                    max_memory=520,\n",
    "                    format='ZARRTRAJ') as W:"
   ]
  }
 ],
 "metadata": {
  "language_info": {
   "name": "python"
  }
 },
 "nbformat": 4,
 "nbformat_minor": 2
}
