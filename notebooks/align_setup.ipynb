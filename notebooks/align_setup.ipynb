{
 "cells": [
  {
   "cell_type": "markdown",
   "metadata": {},
   "source": [
    "This notebook demonstrates how to write a zarrtraj trajectory to disk and AWS S3 using the `ZarrTrajWriter`. This will serve as setup code for RMSF and RMSD\n",
    "benchmarking notebooks as well.\n",
    "\n",
    "Prerequisites: \n",
    "- `benchmark_setup.ipynb`\n",
    "\n",
    "Steps:\n",
    "\n",
    "1. Align the `.xtc` trajectory using `MDAnalysis.analysis.align`\n",
    "2. Write the aligned trajectory to the local filesystem in `.xtc` format\n",
    "3. Load the aligned trajectory into a universe and write it again in the local filesystem in `.zarrtraj` format\n",
    "4. Write the loaded trajectory into an AWS S3 bucket"
   ]
  },
  {
   "cell_type": "code",
   "execution_count": null,
   "metadata": {},
   "outputs": [],
   "source": [
    "from MDAnalysis.analysis import rms, align\n",
    "import MDAnalysis as mda\n",
    "\n",
    "# 1, 2\n",
    "\n",
    "u = mda.Universe(\"notebook_data_tmp/yiip_equilibrium/YiiP_system.pdb\",\n",
    "                 \"notebook_data_tmp/yiip_equilibrium/yiip.xtc\")\n",
    "\n",
    "average = align.AverageStructure(u, u, select=\"protein and name CA\",\n",
    "                                 ref_frame=0).run()\n",
    "ref = average.results.universe\n",
    "aligner = align.AlignTraj(u, ref,\n",
    "                          select='protein and name CA',\n",
    "                          filename='notebook_data_tmp/yiip_aligned.xtc',\n",
    "                          in_memory=False).run()\n"
   ]
  },
  {
   "cell_type": "code",
   "execution_count": 1,
   "metadata": {},
   "outputs": [
    {
     "name": "stdout",
     "output_type": "stream",
     "text": [
      "importing zarrtraj...\n"
     ]
    },
    {
     "name": "stderr",
     "output_type": "stream",
     "text": [
      "/nfs/homes3/ljwoods2/.conda/envs/zarrtraj/lib/python3.11/site-packages/MDAnalysis/topology/PDBParser.py:348: UserWarning: Unknown element Z found for some atoms. These have been given an empty element record. If needed they can be guessed using MDAnalysis.topology.guessers.\n",
      "  warnings.warn(wmsg)\n",
      "/nfs/homes3/ljwoods2/.conda/envs/zarrtraj/lib/python3.11/site-packages/MDAnalysis/topology/PDBParser.py:348: UserWarning: Unknown element D found for some atoms. These have been given an empty element record. If needed they can be guessed using MDAnalysis.topology.guessers.\n",
      "  warnings.warn(wmsg)\n",
      "/nfs/homes3/ljwoods2/.conda/envs/zarrtraj/lib/python3.11/site-packages/MDAnalysis/topology/guessers.py:146: UserWarning: Failed to guess the mass for the following atom types: D\n",
      "  warnings.warn(\"Failed to guess the mass for the following atom types: {}\".format(atom_type))\n",
      "/nfs/homes3/ljwoods2/.conda/envs/zarrtraj/lib/python3.11/site-packages/MDAnalysis/topology/guessers.py:146: UserWarning: Failed to guess the mass for the following atom types: Z\n",
      "  warnings.warn(\"Failed to guess the mass for the following atom types: {}\".format(atom_type))\n"
     ]
    }
   ],
   "source": [
    "import zarrtraj\n",
    "import zarr\n",
    "import MDAnalysis as mda\n",
    "\n",
    "# 3\n",
    "\n",
    "u = mda.Universe(\"notebook_data_tmp/yiip_equilibrium/YiiP_system.pdb\",\n",
    "                 \"notebook_data_tmp/yiip_aligned.xtc\")\n",
    "\n",
    "zHDD = zarr.open_group(\"notebook_data_tmp/yiip_aligned.zarrtraj\", 'w')\n",
    "\n",
    "with mda.Writer(zHDD, u.atoms.n_atoms,\n",
    "                format='ZARRTRAJ') as W:\n",
    "                    for ts in u.trajectory:\n",
    "                        W.write(u.atoms)"
   ]
  },
  {
   "cell_type": "code",
   "execution_count": null,
   "metadata": {},
   "outputs": [],
   "source": [
    "import os \n",
    "import s3fs\n",
    "import zarrtraj\n",
    "import zarr\n",
    "import MDAnalysis as mda\n",
    "\n",
    "# 4\n",
    "# Must set the environmental variable using Jupyter's\n",
    "# \"%env KEY=VALUE\"\n",
    "# before running\n",
    "\n",
    "AWS_ACCESS_KEY_ID = os.getenv(\"AWS_ACCESS_KEY_ID\")\n",
    "AWS_SECRET_ACCESS_KEY = os.getenv(\"AWS_SECRET_ACCESS_KEY\")\n",
    "BUCKET_NAME = os.getenv(\"BUCKET_NAME\")\n",
    "\n",
    "u = mda.Universe(\"notebook_data_tmp/yiip_equilibrium/YiiP_system.pdb\",\n",
    "                 \"notebook_data_tmp/yiip_aligned.xtc\")\n",
    "\n",
    "s3_fs = s3fs.S3FileSystem(\n",
    "    # anon must be false to allow authentication\n",
    "    anon=False,\n",
    "    client_kwargs=dict(\n",
    "        region_name='us-east-1',\n",
    "    )\n",
    ")\n",
    "\n",
    "cloud_store = s3fs.S3Map(\n",
    "    root=f'{BUCKET_NAME}/yiip_aligned.zarrtraj',\n",
    "    s3=s3_fs,\n",
    "    check=False\n",
    ")\n",
    "\n",
    "zS3 = zarr.open_group(cloud_store, 'w')\n",
    "\n",
    "with mda.Writer(zS3, u.atoms.n_atoms,\n",
    "                n_frames=u.trajectory.n_frames,\n",
    "                format='ZARRTRAJ') as W:\n",
    "                    for ts in u.trajectory:\n",
    "                        W.write(u.atoms)"
   ]
  }
 ],
 "metadata": {
  "kernelspec": {
   "display_name": "zarrtraj",
   "language": "python",
   "name": "python3"
  },
  "language_info": {
   "codemirror_mode": {
    "name": "ipython",
    "version": 3
   },
   "file_extension": ".py",
   "mimetype": "text/x-python",
   "name": "python",
   "nbconvert_exporter": "python",
   "pygments_lexer": "ipython3",
   "version": "3.11.8"
  }
 },
 "nbformat": 4,
 "nbformat_minor": 2
}
