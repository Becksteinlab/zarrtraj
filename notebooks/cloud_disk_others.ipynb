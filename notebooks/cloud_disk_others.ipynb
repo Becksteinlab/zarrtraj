{
 "cells": [
  {
   "cell_type": "markdown",
   "metadata": {},
   "source": [
    "Here, we will compare the zarrtraj 0.0.0 reader and writer disk and cloud capabilities with other file format capabilities"
   ]
  },
  {
   "cell_type": "code",
   "execution_count": 3,
   "metadata": {},
   "outputs": [],
   "source": [
    "from zarrtraj import *\n",
    "import MDAnalysis as mda\n",
    "import MDAnalysisData\n",
    "import zarr\n",
    "import h5py\n",
    "import numcodecs\n",
    "import os\n",
    "import subprocess\n",
    "import numpy as np\n",
    "import matplotlib.pyplot as plt\n",
    "import pandas as pd\n",
    "import time\n",
    "\n",
    "os.chdir('notebook_data_tmp')"
   ]
  },
  {
   "cell_type": "code",
   "execution_count": 4,
   "metadata": {},
   "outputs": [
    {
     "name": "stderr",
     "output_type": "stream",
     "text": [
      "/nfs/homes3/ljwoods2/.conda/envs/zarrtraj/lib/python3.11/site-packages/MDAnalysis/topology/PDBParser.py:348: UserWarning: Unknown element Z found for some atoms. These have been given an empty element record. If needed they can be guessed using MDAnalysis.topology.guessers.\n",
      "  warnings.warn(wmsg)\n",
      "/nfs/homes3/ljwoods2/.conda/envs/zarrtraj/lib/python3.11/site-packages/MDAnalysis/topology/PDBParser.py:348: UserWarning: Unknown element D found for some atoms. These have been given an empty element record. If needed they can be guessed using MDAnalysis.topology.guessers.\n",
      "  warnings.warn(wmsg)\n",
      "/nfs/homes3/ljwoods2/.conda/envs/zarrtraj/lib/python3.11/site-packages/MDAnalysis/topology/guessers.py:146: UserWarning: Failed to guess the mass for the following atom types: D\n",
      "  warnings.warn(\"Failed to guess the mass for the following atom types: {}\".format(atom_type))\n",
      "/nfs/homes3/ljwoods2/.conda/envs/zarrtraj/lib/python3.11/site-packages/MDAnalysis/topology/guessers.py:146: UserWarning: Failed to guess the mass for the following atom types: Z\n",
      "  warnings.warn(\"Failed to guess the mass for the following atom types: {}\".format(atom_type))\n"
     ]
    }
   ],
   "source": [
    "# Using yiip for benchmarking\n",
    "yiip = MDAnalysisData.yiip_equilibrium.fetch_yiip_equilibrium_short()\n",
    "u = mda.Universe(yiip.topology, yiip.trajectory)\n",
    "positions = mda.Universe(yiip.topology, yiip.trajectory, in_memory=True).trajectory.get_array()"
   ]
  },
  {
   "cell_type": "code",
   "execution_count": null,
   "metadata": {},
   "outputs": [],
   "source": [
    "u = mda.Universe(yiip.topology, positions)\n",
    "\n",
    "with mda.Writer(f\"yiip_xtc.xtc\", n_atoms) as w:\n",
    "    for ts in u.trajectory:\n",
    "        w.write(u)\n",
    "\n",
    "with mda.Writer(f\"yiip_trr.trr\", n_atoms) as w:\n",
    "    for ts in u.trajectory:\n",
    "        w.write(u)   \n",
    "\n",
    "with mda.Writer(f\"yiip_h5md_c.h5md\", n_atoms, convert_units=False) as w:\n",
    "    for ts in u.trajectory:\n",
    "        w.write(u)   \n",
    "\n",
    "with mda.Writer(f\"yiip_h5md_un.h5md\", n_atoms, convert_units=False) as w:\n",
    "    for ts in u.trajectory:\n",
    "        w.write(u) "
   ]
  },
  {
   "cell_type": "markdown",
   "metadata": {},
   "source": []
  }
 ],
 "metadata": {
  "kernelspec": {
   "display_name": "zarrtraj",
   "language": "python",
   "name": "python3"
  },
  "language_info": {
   "codemirror_mode": {
    "name": "ipython",
    "version": 3
   },
   "file_extension": ".py",
   "mimetype": "text/x-python",
   "name": "python",
   "nbconvert_exporter": "python",
   "pygments_lexer": "ipython3",
   "version": "3.11.7"
  }
 },
 "nbformat": 4,
 "nbformat_minor": 2
}
