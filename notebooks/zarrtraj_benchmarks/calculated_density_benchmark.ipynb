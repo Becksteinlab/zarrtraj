{
 "cells": [
  {
   "cell_type": "code",
   "execution_count": null,
   "metadata": {},
   "outputs": [],
   "source": [
    "import zarrtraj\n",
    "import MDAnalysis as mda\n",
    "import zarr\n",
    "from zarr.storage import LRUStoreCache\n",
    "import s3fs\n",
    "import os\n",
    "\n",
    "# 1\n",
    "yiipHDD = zarr.open_group(\"notebook_data_tmp/yiip.zarrtraj\")\n",
    "\n",
    "# 2\n",
    "AWS_ACCESS_KEY_ID = os.getenv(\"AWS_ACCESS_KEY_ID\")\n",
    "AWS_SECRET_ACCESS_KEY = os.getenv(\"AWS_SECRET_ACCESS_KEY\")\n",
    "BUCKET_NAME = os.getenv(\"BUCKET_NAME\")\n",
    "\n",
    "s3 = s3fs.S3FileSystem(key=AWS_ACCESS_KEY_ID, secret=AWS_SECRET_ACCESS_KEY)\n",
    "store = s3fs.S3Map(root='zarrtraj-test-data/yiip.zarrtraj', s3=s3, check=False)\n",
    "# Select max_size value in bytes based on chunking of zarrtraj data\n",
    "# At least one chunk must fit in the cache\n",
    "cache = LRUStoreCache(store, max_size=2**25)\n",
    "yiipS3 = zarr.open_group(store=cache)\n",
    "\n",
    "# 3\n",
    "uHDD = mda.Universe(\"notebook_data_tmp/YiiP_system.pdb\", yiipHDD)\n",
    "uS3 = mda.Universe(\"notebook_data_tmp/YiiP_system.pdb\", yiipS3)\n",
    "uXTC = mda.Universe(\"notebook_data_tmp/YiiP_system.pdb\", \"YiiP_system_90ns_center.xtc\")"
   ]
  },
  {
   "cell_type": "code",
   "execution_count": null,
   "metadata": {},
   "outputs": [],
   "source": [
    "from MDAnalysis import transformations as trans\n",
    "\n",
    "\n",
    "\n",
    "protein = u.select_atoms('protein')\n",
    "water = u.select_atoms('resname SOL')\n",
    "\n",
    "workflow = [trans.unwrap(u.atoms),  # unwrap all fragments\n",
    "            trans.center_in_box(protein, # move atoms so protein\n",
    "                                center='geometry'), # is centered\n",
    "            trans.wrap(water, # wrap water back into box\n",
    "                       compound='residues'), # keep each water whole\n",
    "            trans.fit_rot_trans(protein, # align protein to first frame\n",
    "                                protein,\n",
    "                                weights='mass'),\n",
    "           ]\n",
    "\n",
    "u.trajectory.add_transformations(*workflow)\n",
    "\n",
    "ow = u.select_atoms('name OW')\n",
    "dens = density.DensityAnalysis(ow,\n",
    "                               delta=4.0,\n",
    "                               padding=2)\n",
    "dens.run()"
   ]
  }
 ],
 "metadata": {
  "language_info": {
   "name": "python"
  }
 },
 "nbformat": 4,
 "nbformat_minor": 2
}
