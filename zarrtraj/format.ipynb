{
 "cells": [
  {
   "cell_type": "markdown",
   "metadata": {},
   "source": [
    "There are 5 pieces of data:\n",
    "(coordinates, velocities, forces)\n",
    "frame number, time stamp of the frame.\n",
    "\n",
    "\n",
    "\n",
    "Come up with an example jupyter notebook where you read some random data (say 1000 particles worth) into a zarr group containing the three arrays.\n",
    "\n",
    "Load and save from disk.\n",
    "\n",
    "How big is the resulting zarr object? How will this scale with particle size? Can you compare with other formats?\n",
    "\n"
   ]
  },
  {
   "cell_type": "code",
   "execution_count": 5,
   "metadata": {},
   "outputs": [],
   "source": [
    "import zarr\n",
    "import numpy as np\n",
    "import MDAnalysis as mda"
   ]
  },
  {
   "cell_type": "code",
   "execution_count": 5,
   "metadata": {},
   "outputs": [
    {
     "data": {
      "text/plain": [
       "<zarr.hierarchy.Group '/'>"
      ]
     },
     "execution_count": 5,
     "metadata": {},
     "output_type": "execute_result"
    }
   ],
   "source": [
    "root = zarr.group()\n",
    "root"
   ]
  },
  {
   "cell_type": "code",
   "execution_count": null,
   "metadata": {},
   "outputs": [],
   "source": [
    "foo = root.create_group('foo')\n",
    "bar = foo.create_group('bar')\n",
    "root.attrs['foo'] = 'bar'"
   ]
  },
  {
   "cell_type": "code",
   "execution_count": null,
   "metadata": {},
   "outputs": [
    {
     "data": {
      "text/plain": [
       "array([1, 4])"
      ]
     },
     "execution_count": 8,
     "metadata": {},
     "output_type": "execute_result"
    }
   ],
   "source": [
    "z = zarr.array(np.arange(10))\n",
    "z.get_coordinate_selection([1, 4])"
   ]
  },
  {
   "cell_type": "markdown",
   "metadata": {},
   "source": [
    "Notation:\n",
    "        (name) is an HDF5 group that the reader recognizes\n",
    "        {name} is an HDF5 group with arbitrary name\n",
    "        [variable] is an HDF5 dataset\n",
    "        <dtype> is dataset datatype\n",
    "        +-- is an attribute of a group or dataset\n",
    "\n",
    "        H5MD root\n",
    "         \\-- (h5md)\n",
    "            +-- version <int>\n",
    "            \\-- author\n",
    "                +-- name <str>, author's name\n",
    "                +-- email <str>, optional email address\n",
    "            \\-- creator\n",
    "                +-- name <str>, file that created .h5md file\n",
    "                +-- version\n",
    "         \\-- (particles)\n",
    "            \\-- {group1}\n",
    "                \\-- (box)\n",
    "                    +-- dimension : <int>, number of spatial dimensions\n",
    "                    +-- boundary : <str>, boundary conditions of unit cell\n",
    "                    \\-- (edges)\n",
    "                        \\-- [step] <int>, gives frame\n",
    "                        \\-- [value] <float>, gives box dimensions\n",
    "                            +-- unit <str>\n",
    "                \\-- (position)\n",
    "                    \\-- [step] <int>, gives frame\n",
    "                    \\-- [time] <float>, gives time\n",
    "                        +-- unit <str>\n",
    "                    \\-- [value] <float>, gives numpy arrary of positions\n",
    "                                         with shape (n_atoms, 3)\n",
    "                        +-- unit <str>\n",
    "                \\-- (velocity)\n",
    "                    \\-- [step] <int>, gives frame\n",
    "                    \\-- [time] <float>, gives time\n",
    "                        +-- unit <str>\n",
    "                    \\-- [value] <float>, gives numpy arrary of velocities\n",
    "                                         with shape (n_atoms, 3)\n",
    "                        +-- unit <str>\n",
    "                \\-- (force)\n",
    "                    \\-- [step] <int>, gives frame\n",
    "                    \\-- [time] <float>, gives time\n",
    "                        +-- unit <str>\n",
    "                    \\-- [value] <float>, gives numpy arrary of forces\n",
    "                                         with shape (n_atoms, 3)\n",
    "                        +-- unit <str>"
   ]
  },
  {
   "cell_type": "code",
   "execution_count": null,
   "metadata": {},
   "outputs": [],
   "source": [
    "n_atoms = 1000\n",
    "pos = np.arange(3 * n_atoms).reshape(n_atoms, 3)\n",
    "orig_box = np.array([81.1, 82.2, 83.3, 75, 80, 85], dtype=np.float32)\n",
    "\n",
    "z_group = zarr.group()\n",
    "particles = root.create_group('particles')\n",
    "g_name = particles.create_group('g_name')\n",
    "\n",
    "# needs: frame num, timestamp\n",
    "\n",
    "box = g_name.create_group('box')\n",
    "\n",
    "position = g_name.create_group('position')\n",
    "\n",
    "velocity = g_name.create_group('velocity')\n",
    "\n",
    "force = g_name.create_group('force')\n",
    "\n",
    "\n",
    "root.attrs['foo'] = 'bar'"
   ]
  },
  {
   "cell_type": "markdown",
   "metadata": {},
   "source": [
    "Writing to h5md to get access to underlying object"
   ]
  },
  {
   "cell_type": "code",
   "execution_count": 28,
   "metadata": {},
   "outputs": [],
   "source": [
    "from MDAnalysis.tests.datafiles import PDB, XTC\n",
    "\n",
    "u = mda.Universe(PSF, DCD)\n",
    "\n",
    "ag = u.atoms\n",
    "ag.write('h5md_view.h5md', frames='all')"
   ]
  },
  {
   "cell_type": "code",
   "execution_count": 40,
   "metadata": {},
   "outputs": [
    {
     "name": "stdout",
     "output_type": "stream",
     "text": [
      "[[[ 11.736044    8.500797  -10.445281 ]\n",
      "  [ 12.365119    7.839936  -10.834842 ]\n",
      "  [ 12.0919485   9.441535  -10.724611 ]\n",
      "  ...\n",
      "  [  6.512604   18.447018   -7.134053 ]\n",
      "  [  6.300186   19.363485   -7.935916 ]\n",
      "  [  5.5854015  17.589624   -6.9656615]]\n",
      "\n",
      " [[ 11.505546    8.062977  -10.38611  ]\n",
      "  [ 12.054723    7.151329  -10.616048 ]\n",
      "  [ 11.8052025   8.942828  -10.862341 ]\n",
      "  ...\n",
      "  [  6.643505   17.84961    -7.008922 ]\n",
      "  [  6.6989756  18.616297   -8.0264   ]\n",
      "  [  5.682343   17.086544   -6.8337812]]\n",
      "\n",
      " [[ 11.694641    8.390831  -10.681395 ]\n",
      "  [ 12.40489     7.7260346 -11.133236 ]\n",
      "  [ 11.936471    9.270585  -11.150342 ]\n",
      "  ...\n",
      "  [  6.854948   17.816687   -7.032191 ]\n",
      "  [  6.6823397  18.81354    -7.775057 ]\n",
      "  [  6.0196676  16.883717   -6.9835215]]\n",
      "\n",
      " ...\n",
      "\n",
      " [[ 16.297781    6.8397956  -7.622989 ]\n",
      "  [ 16.822018    6.566309   -6.7072215]\n",
      "  [ 16.760832    7.6656146  -7.9530683]\n",
      "  ...\n",
      "  [ 12.63667    15.566869   -6.1185045]\n",
      "  [ 12.8278     16.214436   -7.167255 ]\n",
      "  [ 11.55105    14.879154   -5.940134 ]]\n",
      "\n",
      " [[ 16.090187    6.6099625  -7.7719574]\n",
      "  [ 16.711832    6.223813   -6.953144 ]\n",
      "  [ 16.65647     7.455757   -8.011168 ]\n",
      "  ...\n",
      "  [ 12.869081   15.547764   -5.9826627]\n",
      "  [ 13.148772   16.120935   -7.084005 ]\n",
      "  [ 11.958616   14.61877    -5.8742065]]\n",
      "\n",
      " [[ 15.876622    6.8487034  -8.291452 ]\n",
      "  [ 16.574718    6.384349   -7.6659393]\n",
      "  [ 16.286509    7.6933923  -8.677356 ]\n",
      "  ...\n",
      "  [ 12.826421   16.070095   -6.115342 ]\n",
      "  [ 12.63256    17.121313   -6.7537775]\n",
      "  [ 12.376507   14.945225   -6.560634 ]]]\n"
     ]
    }
   ],
   "source": [
    "import h5py\n",
    "\n",
    "file = h5py.File('h5md_view.h5md', 'r')\n",
    "data = file['particles/trajectory']\n",
    "\n",
    "\n",
    "pos = data['position']\n",
    "pos_frame = np.array(pos['value'])\n",
    "\n",
    "print(pos_frame)\n",
    "\n",
    "\n",
    "\n",
    "\n",
    "\n",
    "# Shape of position array is (frame num, atom, 3 spacial dim values)"
   ]
  },
  {
   "cell_type": "code",
   "execution_count": 23,
   "metadata": {},
   "outputs": [
    {
     "name": "stdout",
     "output_type": "stream",
     "text": [
      "10\n"
     ]
    },
    {
     "name": "stderr",
     "output_type": "stream",
     "text": [
      "/home/law/anaconda3/envs/zarrtraj/lib/python3.10/site-packages/MDAnalysis/topology/PDBParser.py:331: UserWarning: Element information is missing, elements attribute will not be populated. If needed these can be guessed using MDAnalysis.topology.guessers.\n",
      "  warnings.warn(\"Element information is missing, elements attribute \"\n"
     ]
    }
   ],
   "source": [
    "from MDAnalysis.tests.datafiles import PDB, XTC\n",
    "\n",
    "u = mda.Universe(PDB, XTC)\n",
    "\n",
    "i = 0\n",
    "for ts in u.trajectory:\n",
    "    i += 1\n",
    "print(i)"
   ]
  },
  {
   "cell_type": "markdown",
   "metadata": {},
   "source": [
    "Saving a zarr file to disk"
   ]
  },
  {
   "cell_type": "code",
   "execution_count": 45,
   "metadata": {},
   "outputs": [
    {
     "name": "stdout",
     "output_type": "stream",
     "text": [
      "<zarr.core.Array '/particles/g_name/position/value' (5, 1000, 3) float64>\n"
     ]
    }
   ],
   "source": [
    "import zarr\n",
    "\n",
    "# create zarr group layout\n",
    "root = zarr.open('test_zip.zarr', mode='a')\n",
    "# root = zarr.group()\n",
    "particles = root.create_group('particles')\n",
    "g_name = particles.create_group('g_name')\n",
    "box = g_name.create_group('box')\n",
    "position = g_name.create_group('position')\n",
    "velocity = g_name.create_group('velocity')\n",
    "force = g_name.create_group('force')\n",
    "\n",
    "# Generate atom box\n",
    "n_atoms = 1000\n",
    "# Generate an array of vals from 0 to 3* 1000\n",
    "# turn this into an array of 1000 x,y,z coordinates\n",
    "pos = np.arange(3 * n_atoms).reshape(n_atoms, 3)\n",
    "orig_box = np.array([81.1, 82.2, 83.3, 75, 80, 85], dtype=np.float32)\n",
    "\n",
    "\n",
    "# Shape of position array is (frame num, atom, 3 spacial dim values)\n",
    "positions = np.empty((5, n_atoms, 3))\n",
    "for i in range(5):\n",
    "    positions[i] =  2** i * pos\n",
    "\n",
    "# Insert the array into the zarr group\n",
    "position.create_dataset('value', data=positions)\n",
    "\n",
    "# Save the zarr group to disk\n",
    "print(g_name['position/value'])\n",
    "\n"
   ]
  },
  {
   "cell_type": "code",
   "execution_count": null,
   "metadata": {},
   "outputs": [],
   "source": [
    "import zarr\n",
    "\n",
    "open_test = zarr.open('test_zip.zarr', mode='a')\n",
    "\n",
    "open_test.tree()"
   ]
  },
  {
   "cell_type": "code",
   "execution_count": null,
   "metadata": {},
   "outputs": [],
   "source": []
  }
 ],
 "metadata": {
  "kernelspec": {
   "display_name": "zarrtraj",
   "language": "python",
   "name": "python3"
  },
  "language_info": {
   "codemirror_mode": {
    "name": "ipython",
    "version": 3
   },
   "file_extension": ".py",
   "mimetype": "text/x-python",
   "name": "python",
   "nbconvert_exporter": "python",
   "pygments_lexer": "ipython3",
   "version": "3.10.13"
  }
 },
 "nbformat": 4,
 "nbformat_minor": 2
}
